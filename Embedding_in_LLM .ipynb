{
 "cells": [
  {
   "cell_type": "markdown",
   "metadata": {},
   "source": [
    "**DSS : BUILDING LARGE LANGUAGE MODELS FOR BUSINESS APPLICATIONS Day 3**\n",
    "\n",
    "- Part 3 of BUILDING LARGE LANGUAGE MODELS FOR BUSINESS APPLICATIONS\n",
    "- Course Length: 3 hours\n",
    "- Last Updated: July 2023\n",
    "---\n",
    "\n",
    "Developed by Algoritma's Research and Development division"
   ]
  },
  {
   "cell_type": "markdown",
   "metadata": {},
   "source": [
    "## Background\n",
    "\n",
    "The coursebook is part of the **Large Language Models Specialization** developed by [Algoritma](https://algorit.ma/). The coursebook is intended for a restricted audience only, i.e. the individuals and organizations having received this coursebook directly from the training organization. It may not be reproduced, distributed, translated or adapted in any form outside these individuals and organizations without permission.Algoritma is a data science education center based in Jakarta. We organize workshops and training programs to help working professionals and students gain mastery in various data science sub-fields: data visualization, machine learning, data modeling, statistical inference etc."
   ]
  },
  {
   "cell_type": "markdown",
   "metadata": {},
   "source": [
    "# Understanding Embedding in LLM "
   ]
  },
  {
   "cell_type": "markdown",
   "metadata": {},
   "source": [
    "## Training Objectives\n",
    "\n",
    "- **Understanding Embeddings in Large Language Models (LLM) for Natural Language Processing**\n",
    "   - Basic concepts of embeddings in LLM\n",
    "   - Usage of embeddings in natural language processing\n",
    "   - Demonstration of embeddings usage in text analysis\n",
    "\n",
    "\n",
    "- **Advanced Embeddings in Large Language Models (LLM) for Text Processing**\n",
    "   - In-depth understanding of embeddings in LLM\n",
    "   - Implementation of embeddings in text processing using Python\n",
    "   - Demonstration of embedding techniques in text processing tasks\n",
    "\n",
    "\n",
    "- **Advanced Applications of Embeddings in Text Processing with Large Language Models (LLM)**\n",
    "   - Application of embeddings in advanced text processing\n",
    "   - Usage of embeddings for text classification and contextual understanding\n",
    "   - Demonstration of embeddings usage in advanced tasks"
   ]
  },
  {
   "cell_type": "markdown",
   "metadata": {},
   "source": [
    "## Understanding Embeddings in Large Language Models (LLM) for Natural Language Processing\n",
    "\n",
    "We have created a GPT question and answering system using Large Language Models (LLMs) that can generate answers based on our data. Now, let's delve deeper into how LLMs understand natural language by exploring the concept of embeddings.\n",
    "\n",
    "In natural language processing (NLP), **embeddings** are representations of **words or text as numerical vectors**. These vectors capture the **semantic and contextual** information of the text, allowing the model to understand the meaning and relationships between words. In simpler terms, embeddings help the chatbot understand the meaning of words and how they relate to each other.\n",
    "\n",
    "Imagine you have a chatbot designed to assist customers with their inquiries. When a customer asks a question, the chatbot needs to understand the meaning of the question and provide a relevant answer. This is where embeddings come into play. The chatbot is trained on a large amount of text data and learns to associate words with their respective embeddings. These embeddings encode the information about the words' meaning and context.\n",
    "\n",
    "For example, if a customer asks, \"What are the payment options available?\" the chatbot uses the embeddings to understand the meaning of the words \"payment\" and \"options\" and their relationship within the sentence. It can then provide an appropriate response by retrieving information from its knowledge base.\n",
    "\n",
    "Embeddings enable the chatbot to **make sense** of the customer's input and generate accurate and contextually relevant responses. By capturing the meaning and relationships between words, embeddings enhance the chatbot's understanding of natural language and improve its ability to generate meaningful and coherent answers."
   ]
  },
  {
   "cell_type": "markdown",
   "metadata": {},
   "source": [
    "### Basic Concept of Embedding (Vector)\n",
    "\n",
    "A vector (or embedding) is an **array of numbers**. That on its own is exciting, but what is even more exciting is that these arrays can represent more complex data like text, images, audio or even video. In the case of text, these representations are designed to capture **semantic and syntactic** relationships between words, allowing algorithms to understand and process language more effectively.\n",
    "\n",
    "Word embeddings, specifically, are dense vector representations that encode the meaning of a word based on its context in a large corpus of text. In simpler terms, they map words to numerical vectors in a high-dimensional space, where similar words are located closer to each other. This is done in a vector database (we will talk about this later)\n",
    "\n",
    "Creating these embeddings is done by an embedding model. There are multiple embedding models that can be used. OpenAI also provide embedding model but we will use free LLM model so we don't ran out of credit. We will use **`\"all-MiniLM-L6-v2\"`** embedding model.\n",
    "\n",
    "Making embeddings can be visualised in the following way:\n",
    "\n",
    "![embedding](assets/embedding.gif)"
   ]
  },
  {
   "cell_type": "markdown",
   "metadata": {},
   "source": [
    "This embedding process apply in many LLM implementation, for example QnA system or GPT chatbot. The question asked to the chatbot will be embedded as well, and on the basis of similarity search, the retriever will return the embeddings with the data to answer the question. After this, the LLM will return a coherent and well-structured answer.\n",
    "\n",
    "But let's dive deep the concept one by one start by how to perform embedding from raw text to vector form."
   ]
  },
  {
   "cell_type": "code",
   "execution_count": 10,
   "metadata": {},
   "outputs": [],
   "source": [
    "from langchain.embeddings.sentence_transformer import SentenceTransformerEmbeddings\n",
    "\n",
    "# create the open-source embedding function\n",
    "embedding_function = SentenceTransformerEmbeddings(model_name=\"all-MiniLM-L6-v2\")"
   ]
  },
  {
   "cell_type": "markdown",
   "metadata": {},
   "source": [
    "This embedding function is based on an open-source sentence transformer model, which converts sentences or text into numerical embeddings that capture the semantic meaning and contextual information of the text. Let's create an example sentences:"
   ]
  },
  {
   "cell_type": "code",
   "execution_count": 11,
   "metadata": {},
   "outputs": [],
   "source": [
    "sentences = [\n",
    "    \"This is document about cat\",\n",
    "    \"This is document about car\",\n",
    "    \"Example of the long sentences: China increased its coal-fired power capacity by 42.9 GW, or 4.5%, in the 18 months to June 2019, according to a report by Global Energy Monitor. The study also found that another 121.3 GW of coal-fired power plants are under construction in China, which has pledged to reduce its coal usage. However, the country’s absolute coal consumption has still increased in line with rising energy demand. China accounts for more than 40% of the world's total coal generation capacity.\"\n",
    "]"
   ]
  },
  {
   "cell_type": "code",
   "execution_count": 12,
   "metadata": {},
   "outputs": [
    {
     "data": {
      "text/plain": [
       "[0.03584069758653641,\n",
       " 0.0844104066491127,\n",
       " 0.004435761831700802,\n",
       " 0.061324890702962875,\n",
       " -0.0967964306473732,\n",
       " -0.011024923995137215,\n",
       " -0.03996596485376358,\n",
       " 0.027137821540236473,\n",
       " -0.03685334697365761,\n",
       " 0.04033121094107628]"
      ]
     },
     "execution_count": 12,
     "metadata": {},
     "output_type": "execute_result"
    }
   ],
   "source": [
    "# Perform embedding using embed_documents()\n",
    "embedded_sentences = embedding_function.embed_documents(sentences)\n",
    "\n",
    "# show embedded result\n",
    "embedded_sentences[0][:10]"
   ]
  },
  {
   "cell_type": "markdown",
   "metadata": {},
   "source": [
    "The output of this code is the result of performing embedding using the `embed_documents()` method of the `embedding_function`. The `sentences` variable represents a list of sentences or text that we want to embed. The `embed_documents()` method takes these sentences as input and generates their corresponding embeddings. \n",
    "\n",
    "The variable `embedded_sentences` stores the embedded representations of the input sentences. It is a numerical representation of the sentences that captures their semantic meaning and context."
   ]
  },
  {
   "cell_type": "markdown",
   "metadata": {},
   "source": [
    "The statement indicates that the embedding model, specifically the [sentence-transformers/msmarco-MiniLM-L-12-v3](sentence-transformers/msmarco-MiniLM-L-12-v3) model, generates a fixed-size vector of 384 dimensions for any given sentence, regardless of its length. This model is designed to map sentences and paragraphs to a dense vector space with 384 dimensions.\n",
    "\n",
    "The purpose of this embedding is to capture the semantic meaning of sentences and enable tasks such as semantic search, where similarity between sentences can be measured in this vector space. By representing sentences in a fixed-size vector format, the model facilitates efficient comparison and retrieval of semantically similar sentences.\n",
    "\n",
    "In summary, regardless of the length of the input sentence, the embedding model consistently produces a 384-dimensional vector representation that captures the semantic information of the sentence. This representation can be used for various NLP tasks, including semantic search, where similarity between sentences is important."
   ]
  },
  {
   "cell_type": "markdown",
   "metadata": {},
   "source": [
    "## Advanced Embedding in Large Language Models (LLM) for Text Processing\n",
    "\n",
    "The ability of embedding to handle text data is crucial for addressing the demands of today's industries. Embedding allows us to process and understand textual information effectively, enabling a wide range of text processing tasks.\n",
    "\n",
    "One significant application of embedding is in large language models (LLMs), which leverage advanced embedding techniques to comprehend and generate natural language. By utilizing embedding in LLMs, we can tackle various industrial challenges more efficiently.\n",
    "\n",
    "In this section, we will explore the use of **Chroma DB**, a powerful embedding-based database, to enhance text processing capabilities. By training the model on relevant data, we can leverage the embedded representations of text to perform tasks like question-answering. This approach enables us to extract meaningful information from the data and provide accurate responses to user queries.\n",
    "\n",
    "By harnessing the power of embedding in LLMs and leveraging technologies like Chroma DB, we can significantly improve the **efficiency and effectiveness** of text processing in industries. This opens up new opportunities for automating tasks, gaining insights from textual data, and enhancing decision-making processes."
   ]
  },
  {
   "cell_type": "markdown",
   "metadata": {},
   "source": [
    "### Vector Database (CHROMA DB)"
   ]
  },
  {
   "cell_type": "markdown",
   "metadata": {},
   "source": [
    "When working with Large Language Models (LLMs) like GPT-4 or Google's PaLM 2, we will often be working with big amounts of unstructured, textual data. Structured data can just be stored in a SQL database, but that is much harder with unstructured data. When we for instance have a lot of text files like above example with information on a certain topic, it might be good to store this information in a different way in order to retrieve the desired data in the most efficient way. The answer to this: **Vector Databases**."
   ]
  },
  {
   "cell_type": "markdown",
   "metadata": {},
   "source": [
    "The specific vector database that we will use is the **ChromaDB** vector database.\n",
    "\n",
    "[Chroma Website](https://docs.trychroma.com/getting-started#:~:text=Chroma%20is%20a%20database%20for,hosted%20version%20is%20coming%20soon!):\n",
    "\n",
    "> Chroma is a database for building AI applications with embeddings. It comes with everything you need to get started built in, and runs on your machine. ChromaDB"
   ]
  },
  {
   "cell_type": "markdown",
   "metadata": {},
   "source": [
    "By using `Chroma`, we can streamline the process of embedding and computing cosine distances, as it provides built-in functionality for these tasks.\n",
    "\n",
    "Both `Chroma` and `LangChain` are integrated, allowing for seamless usage. To take advantage of this integration, we need to import the necessary functions from the respective libraries. This integration simplifies the implementation of text processing tasks by providing convenient methods for embedding text, computing cosine distances, and utilizing these functionalities within the broader context of `LangChain`."
   ]
  },
  {
   "cell_type": "markdown",
   "metadata": {},
   "source": [
    "To utilize `Chroma DB` and `LangChain`, we need to import the necessary libraries and modules. \n",
    "\n",
    "- `SentenceTransformerEmbeddings` from `langchain.embeddings.sentence_transformer`: to generate embeddings for sentences using a pre-trained Sentence Transformer model.\n",
    "- `CharacterTextSplitter` from `langchain.text_splitter`: split text documents into smaller chunks or segments, which can be useful for efficient processing and analysis.\n",
    "- `Chroma` from `langchain.vectorstores`: Chroma is a vector store that enables us to store and query embedded text data efficiently.\n",
    "- `TextLoader` from `langchain.document_loaders`: provides functionality to load text documents from various sources, such as files or directories."
   ]
  },
  {
   "cell_type": "code",
   "execution_count": 13,
   "metadata": {},
   "outputs": [],
   "source": [
    "# import\n",
    "from langchain.embeddings.sentence_transformer import SentenceTransformerEmbeddings\n",
    "from langchain.text_splitter import CharacterTextSplitter\n",
    "from langchain.vectorstores import Chroma\n",
    "from langchain.document_loaders import TextLoader"
   ]
  },
  {
   "cell_type": "code",
   "execution_count": 36,
   "metadata": {},
   "outputs": [],
   "source": [
    "# load the document and split it into chunks\n",
    "loader = TextLoader(\"data_input/summary.txt\")\n",
    "document = loader.load()"
   ]
  },
  {
   "cell_type": "code",
   "execution_count": 37,
   "metadata": {},
   "outputs": [
    {
     "data": {
      "text/plain": [
       "[Document(page_content='Summary for Australia:\\n\\n- Australia\\'s coal and gas exports may reduce by half within the next five years due to the passing of its peak and the efforts of Asian countries to decrease greenhouse gas emissions. The earnings of minerals and energy exports are predicted to reach $464bn in 2022-23 from $128bn in thermal coal exports and $91bn in liquidified natural gas (LNG) exports. These figures have resulted from the global energy crisis caused by Russia\\'s invasion of Ukraine, leading to high fossil fuel prices, causing the replacement of Russian gas with alternative supplies in northern hemisphere nations. \\n\\n- The seaborne coal market grew by 5.9% year-on-year to 1208 million tonnes in 2022, reversing the negative trend of previous years, according to shipbroker Banchero Costa. Although Australia\\'s coal exports declined by 5% in 2022 due to China\\'s adoption  of alternative markets, relations between the two countries have mended and coal shipments are expected to resume. Indonesia is now the largest exporter of coal globally, with a 32.2% share in 2022 compared to Australia\\'s 28.2%. In terms of export destinations, Japan was the top with 115 million tonnes in 2021, while exports to India rose by 13.6% but declined by 3.3% to China.\\n \\n- Coal producers are in talks with the government of New South Wales, following the government\\'s announcement that coal miners should reserve up to 10% of production for domestic supply to control rising energy costs in Australia. Coal producers are expected to be minimally impacted since spot supplies are limited, limiting requisition under the rule. The state is expanding an existing system that requires some coal-mining companies to reserve supply. Exports of coal are essential to the Australian economy, with 80% of the country\\'s coal exported, yet the move comes as coal prices rise nearly 50% YoY.\\n \\n- After a year of frozen relations between China and Australia, there is hope for a thaw in their relationship. Chinaâ€™s Foreign Minister, Wang Yi, met with a delegation from Australia to mark the 50th anniversary of bilateral relations and stated that the countries have no \"fundamental conflicts of interest\". Australia is hoping to resume trade in commodities such as iron ore and coking coal. While it is still uncertain whether a trade recovery will happen, analysts and experts from both countries have expressed optimism. Trade data shows that in 2021 China has already imported 694 million tons of iron ore from Australia, accounting for 62% of total imports.\\n\\nSummary for Indonesia\\n\\n- Indonesia plans to produce a record 695 million tonnes of coal in 2023 and export 518 million tonnes, according to Energy and Mineral Resources Minister Arifin Tasrif. The country\\'s coal-fired energy supply makes up more than half of its total, though the government aims for a net-zero emissions goal by 2060. Domestic coal consumption in Indonesia is projected at 177 million tonnes this year, down from 193 million tonnes in 2022. \\n\\n- Global seaborne coal loadings increased by 5.9% year on year to 1204.9 million tonnes in 2022, with Indonesia\\'s exports rising by 21.2% to 388.9 million tonnes, according to shipbroker Banchero Costa. The EU\\'s coal imports jumped 33.9% year on year to 116.5 million tonnes, while India took 13.6% more coal from Indonesia, receiving a total of 203.8 million tonnes. Coal shipments to China fell by 3.2% to 234.7 million tonnes, and Australian exports declined by 5.0%. \\n\\n- Ford is investing in a $4.5bn nickel processing facility in Indonesia, in partnership with PT Vale Indonesia and China\\'s Zhejiang Huayou Cobalt, in order to secure a supply of nickel needed for EV batteries. The facility is set to begin commercial operations in 2026 and is expected to help Ford achieve its target of producing around two million electric vehicles in that year. China\\'s services sector reached its highest level in over a decade in March, providing a promising signal for the global economy, which is relying on Chinese consumers to drive growth. Coal prices have continued to fall, with Central Appalachian coal down 57% from the start of the year. \\n\\n- Bank Indonesia predicts that Indonesia\\'s economy will continue to experience strong growth, with a range of 4.5-5.3% expected in 2023, despite global economic uncertainty. The country\\'s economy grew by 5.31% in 2022, driven by a surplus in the trade balance, controlled inflation, increased credit growth, and healthy financial systems. Credit growth is expected to increase by 10-12% in 2023, and increased domestic and export demand are projected to strengthen household consumption and drive economic growth. Non-oil and gas exports, including coal, metal ore, and crude palm oil, have grown rapidly. \\n\\n- Indonesia aims to produce 694 million tons of coal in 2021 to fulfill both domestic and export demands, said the country\\'s Ministry of Energy and Mineral Resources. Last year, the nation produced 627 million tons, with 4-5 million tons exported to Europe, compared with 500,000 tons in previous years, the Indonesian Coal Mining Association said. European coal demand is expected to stay strong next year.\\n\\n- Indonesia\\'s new ban on coal exports, implemented to ensure adequate supply for its state-owned electricity companies, is expected to disrupt Supramax and Panamax markets in the Pacific region. The country exports around 400 million metric tonnes of thermal coal each year to countries including China, India, Japan, South Korea and Vietnam. The ban, which has seen bulkers unable to sail out of Indonesian ports, is likely to result in a tonnage surfeit in the Asia-Pacific, leading to lower shipping rates, particularly in East Coast South America (ECSA) and the Indian Ocean. \\n\\nSummary for China:\\n\\n- China\\'s coal industry is expected to see stronger trade as the country ramps up energy supplies and stabilizes prices, with coal accounting for 56% of the country\\'s total primary energy consumption. In July 2022, China\\'s coal and lignite exports rose by 171.6% YoY to 230,000 tons. Indonesia is the largest exporter of coal to China, accounting for 58.3% of total imports, followed by Russia at 23.3% and Mongolia at 10%. Australian coal miners are expected to see a pick up in exports to China, while technology and investment from China is set to play a vital role in Indonesian coal deep-processing. \\n\\n- China\\'s imports of Russian coal rose to 8.54 million tonnes in August due to soaring energy demand caused by extremely hot weather. This trade marked the highest volume since data collection began in 2017, and was up 57% compared with the same period last year. Chinaâ€™s purchase of Russian imports rose by 60% to $11.2bn in August on the back of surging demand for oil, coal and gas. Meanwhile, bilateral trade between China and Russia reached $117.2bn in the first eight months of 2022; up over 31% YoY. \\n\\n- More than 50% of China\\'s coking coal imports this year are expected to come from Mongolia, according to coking coal analyst Li Xiaoyun from MySteel consultancy. Mongolia is projected to export approximately 40m to 50m tonnes of coking coal to China in 2022, making it the largest coking coal seller to China for the third consecutive year after it replaced Australia in 2021, according to MySteel\\'s data. However, China\\'s total shipments for coking coal imports are expected to have a minor increase due to imports growth from Australia and Indonesia, Li added. \\n\\n- China added 38.4 GW of new coal-fired power capacity in 2020, more than the rest of the world combined, according to research by US think tank Global Energy Monitor and the Centre for Research on Energy and Clean Air in Helsinki. The capacity increase means China has not been cutting emissions despite last year\\'s pledge by President Xi Jinping that the country would be carbon neutral by 2060. The government has come under criticism from environmentalists for allowing coal-fired plants to be built in polluted regions and developing projects in greener areas more slowly. \\n\\n- China increased its coal-fired power capacity by 42.9 GW, or 4.5%, in the 18 months to June 2019, according to a report by Global Energy Monitor. The study also found that another 121.3 GW of coal-fired power plants are under construction in China, which has pledged to reduce its coal usage. However, the countryâ€™s absolute coal consumption has still increased in line with rising energy demand. China accounts for more than 40% of the world\\'s total coal generation capacity.', metadata={'source': 'data_input/summary.txt'})]"
      ]
     },
     "execution_count": 37,
     "metadata": {},
     "output_type": "execute_result"
    }
   ],
   "source": [
    "document"
   ]
  },
  {
   "cell_type": "markdown",
   "metadata": {},
   "source": [
    "Once the document has been loaded, we may find that it consists of multiple paragraphs. To facilitate our search for the most relevant paragraph, we can use the `CharacterTextSplitter` module. By specifying the `chunk_size` parameter as 1000 characters and setting `chunk_overlap` to 0, the document will be divided into smaller chunks or segments, each containing approximately 1000 characters.\n",
    "\n",
    "This splitting process allows us to analyze each paragraph individually and determine which one is most similar to our query. It simplifies the task of finding relevant information within the document and enables more focused analysis."
   ]
  },
  {
   "cell_type": "code",
   "execution_count": 38,
   "metadata": {},
   "outputs": [
    {
     "name": "stderr",
     "output_type": "stream",
     "text": [
      "Created a chunk of size 1917, which is longer than the specified 1000\n"
     ]
    },
    {
     "data": {
      "text/plain": [
       "[Document(page_content=\"Summary for Australia:\\n\\n- Australia's coal and gas exports may reduce by half within the next five years due to the passing of its peak and the efforts of Asian countries to decrease greenhouse gas emissions. The earnings of minerals and energy exports are predicted to reach $464bn in 2022-23 from $128bn in thermal coal exports and $91bn in liquidified natural gas (LNG) exports. These figures have resulted from the global energy crisis caused by Russia's invasion of Ukraine, leading to high fossil fuel prices, causing the replacement of Russian gas with alternative supplies in northern hemisphere nations.\", metadata={'source': 'data_input/summary.txt'}),\n",
       " Document(page_content='- The seaborne coal market grew by 5.9% year-on-year to 1208 million tonnes in 2022, reversing the negative trend of previous years, according to shipbroker Banchero Costa. Although Australia\\'s coal exports declined by 5% in 2022 due to China\\'s adoption  of alternative markets, relations between the two countries have mended and coal shipments are expected to resume. Indonesia is now the largest exporter of coal globally, with a 32.2% share in 2022 compared to Australia\\'s 28.2%. In terms of export destinations, Japan was the top with 115 million tonnes in 2021, while exports to India rose by 13.6% but declined by 3.3% to China.\\n \\n- Coal producers are in talks with the government of New South Wales, following the government\\'s announcement that coal miners should reserve up to 10% of production for domestic supply to control rising energy costs in Australia. Coal producers are expected to be minimally impacted since spot supplies are limited, limiting requisition under the rule. The state is expanding an existing system that requires some coal-mining companies to reserve supply. Exports of coal are essential to the Australian economy, with 80% of the country\\'s coal exported, yet the move comes as coal prices rise nearly 50% YoY.\\n \\n- After a year of frozen relations between China and Australia, there is hope for a thaw in their relationship. Chinaâ€™s Foreign Minister, Wang Yi, met with a delegation from Australia to mark the 50th anniversary of bilateral relations and stated that the countries have no \"fundamental conflicts of interest\". Australia is hoping to resume trade in commodities such as iron ore and coking coal. While it is still uncertain whether a trade recovery will happen, analysts and experts from both countries have expressed optimism. Trade data shows that in 2021 China has already imported 694 million tons of iron ore from Australia, accounting for 62% of total imports.', metadata={'source': 'data_input/summary.txt'}),\n",
       " Document(page_content=\"Summary for Indonesia\\n\\n- Indonesia plans to produce a record 695 million tonnes of coal in 2023 and export 518 million tonnes, according to Energy and Mineral Resources Minister Arifin Tasrif. The country's coal-fired energy supply makes up more than half of its total, though the government aims for a net-zero emissions goal by 2060. Domestic coal consumption in Indonesia is projected at 177 million tonnes this year, down from 193 million tonnes in 2022. \\n\\n- Global seaborne coal loadings increased by 5.9% year on year to 1204.9 million tonnes in 2022, with Indonesia's exports rising by 21.2% to 388.9 million tonnes, according to shipbroker Banchero Costa. The EU's coal imports jumped 33.9% year on year to 116.5 million tonnes, while India took 13.6% more coal from Indonesia, receiving a total of 203.8 million tonnes. Coal shipments to China fell by 3.2% to 234.7 million tonnes, and Australian exports declined by 5.0%.\", metadata={'source': 'data_input/summary.txt'})]"
      ]
     },
     "execution_count": 38,
     "metadata": {},
     "output_type": "execute_result"
    }
   ],
   "source": [
    "# split it into chunks\n",
    "text_splitter = CharacterTextSplitter(chunk_size=1000, chunk_overlap=0)\n",
    "text = text_splitter.split_documents(document)\n",
    "\n",
    "text[:3]"
   ]
  },
  {
   "cell_type": "markdown",
   "metadata": {},
   "source": [
    "Once we have split each paragraph in the document, we can proceed to embed the sentences and store them in Chroma for efficient retrieval.\n",
    "\n",
    "- We will create an open-source embedding function using `SentenceTransformerEmbeddings`. In this example, we use the model \"all-MiniLM-L6-v2\" to perform the sentence embedding.\n",
    "\n",
    "- We load the embedded sentences into Chroma using the `from_documents` method. We pass in the `text` as the input and the `embedding_function` to perform the embedding process. Chroma will store the embedded vectors along with their corresponding sentences, enabling fast and accurate retrieval based on semantic similarity.\n"
   ]
  },
  {
   "cell_type": "code",
   "execution_count": 39,
   "metadata": {},
   "outputs": [],
   "source": [
    "# create the open-source embedding function\n",
    "embedding_function = SentenceTransformerEmbeddings(model_name=\"all-MiniLM-L6-v2\")\n",
    "\n",
    "# load it into Chroma\n",
    "db = Chroma.from_documents(text, embedding_function)"
   ]
  },
  {
   "cell_type": "markdown",
   "metadata": {},
   "source": [
    "By leveraging Chroma, we can easily search for the most relevant sentences or paragraphs in the document by comparing their embedded vectors, providing a powerful tool for text processing and information retrieval."
   ]
  },
  {
   "cell_type": "markdown",
   "metadata": {},
   "source": [
    "Chroma will store the extracted ids, embeddings, documents, and metadata into a collection. This collection acts as a repository where the information is organized and indexed for efficient retrieval"
   ]
  },
  {
   "cell_type": "code",
   "execution_count": 40,
   "metadata": {},
   "outputs": [
    {
     "data": {
      "text/plain": [
       "dict_keys(['ids', 'embeddings', 'documents', 'metadatas'])"
      ]
     },
     "execution_count": 40,
     "metadata": {},
     "output_type": "execute_result"
    }
   ],
   "source": [
    "db._collection.get().keys()"
   ]
  },
  {
   "cell_type": "markdown",
   "metadata": {},
   "source": [
    "- The `ids` represent unique identifiers associated with each document or sentence in the collection. These ids serve as references to access specific entries in the collection.\n",
    "\n",
    "- The `embeddings` are the vector representations of the documents or sentences. These embeddings capture the semantic information and enable similarity-based searches within the collection.\n",
    "\n",
    "- The `documents` refer to the original text content that has been split and processed. These documents can be paragraphs, sentences, or any other meaningful textual units.\n",
    "\n",
    "- The `metadata` includes any additional information associated with the documents, such as timestamps, author names, or any other relevant attributes."
   ]
  },
  {
   "cell_type": "code",
   "execution_count": 41,
   "metadata": {},
   "outputs": [
    {
     "data": {
      "text/plain": [
       "[\"Summary for Australia:\\n\\n- Australia's coal and gas exports may reduce by half within the next five years due to the passing of its peak and the efforts of Asian countries to decrease greenhouse gas emissions. The earnings of minerals and energy exports are predicted to reach $464bn in 2022-23 from $128bn in thermal coal exports and $91bn in liquidified natural gas (LNG) exports. These figures have resulted from the global energy crisis caused by Russia's invasion of Ukraine, leading to high fossil fuel prices, causing the replacement of Russian gas with alternative supplies in northern hemisphere nations.\",\n",
       " '- The seaborne coal market grew by 5.9% year-on-year to 1208 million tonnes in 2022, reversing the negative trend of previous years, according to shipbroker Banchero Costa. Although Australia\\'s coal exports declined by 5% in 2022 due to China\\'s adoption  of alternative markets, relations between the two countries have mended and coal shipments are expected to resume. Indonesia is now the largest exporter of coal globally, with a 32.2% share in 2022 compared to Australia\\'s 28.2%. In terms of export destinations, Japan was the top with 115 million tonnes in 2021, while exports to India rose by 13.6% but declined by 3.3% to China.\\n \\n- Coal producers are in talks with the government of New South Wales, following the government\\'s announcement that coal miners should reserve up to 10% of production for domestic supply to control rising energy costs in Australia. Coal producers are expected to be minimally impacted since spot supplies are limited, limiting requisition under the rule. The state is expanding an existing system that requires some coal-mining companies to reserve supply. Exports of coal are essential to the Australian economy, with 80% of the country\\'s coal exported, yet the move comes as coal prices rise nearly 50% YoY.\\n \\n- After a year of frozen relations between China and Australia, there is hope for a thaw in their relationship. Chinaâ€™s Foreign Minister, Wang Yi, met with a delegation from Australia to mark the 50th anniversary of bilateral relations and stated that the countries have no \"fundamental conflicts of interest\". Australia is hoping to resume trade in commodities such as iron ore and coking coal. While it is still uncertain whether a trade recovery will happen, analysts and experts from both countries have expressed optimism. Trade data shows that in 2021 China has already imported 694 million tons of iron ore from Australia, accounting for 62% of total imports.',\n",
       " \"Summary for Indonesia\\n\\n- Indonesia plans to produce a record 695 million tonnes of coal in 2023 and export 518 million tonnes, according to Energy and Mineral Resources Minister Arifin Tasrif. The country's coal-fired energy supply makes up more than half of its total, though the government aims for a net-zero emissions goal by 2060. Domestic coal consumption in Indonesia is projected at 177 million tonnes this year, down from 193 million tonnes in 2022. \\n\\n- Global seaborne coal loadings increased by 5.9% year on year to 1204.9 million tonnes in 2022, with Indonesia's exports rising by 21.2% to 388.9 million tonnes, according to shipbroker Banchero Costa. The EU's coal imports jumped 33.9% year on year to 116.5 million tonnes, while India took 13.6% more coal from Indonesia, receiving a total of 203.8 million tonnes. Coal shipments to China fell by 3.2% to 234.7 million tonnes, and Australian exports declined by 5.0%.\"]"
      ]
     },
     "execution_count": 41,
     "metadata": {},
     "output_type": "execute_result"
    }
   ],
   "source": [
    "db._collection.get()['documents'][:3]"
   ]
  },
  {
   "cell_type": "markdown",
   "metadata": {},
   "source": [
    "After exploring the Chroma collection and embedding the query, we can evaluate the performance of our model by finding similar documents that best match the given question.\n",
    "\n",
    "We will define the `query` as \"Is there an export ban on Coal in Indonesia? Why?\" and use the `similarity_search_with_score` function from Chroma to find the most similar documents to the query. We specify `k=3` to retrieve the top 3 matching documents.\n"
   ]
  },
  {
   "cell_type": "code",
   "execution_count": 44,
   "metadata": {},
   "outputs": [],
   "source": [
    "# Embed query and find similar document\n",
    "query = \"Is there an export ban on Coal in Indonesia? Why?\"\n",
    "docs = db.similarity_search_with_score(query, k=3)"
   ]
  },
  {
   "cell_type": "code",
   "execution_count": 45,
   "metadata": {},
   "outputs": [
    {
     "data": {
      "text/plain": [
       "[(Document(page_content=\"- Indonesia aims to produce 694 million tons of coal in 2021 to fulfill both domestic and export demands, said the country's Ministry of Energy and Mineral Resources. Last year, the nation produced 627 million tons, with 4-5 million tons exported to Europe, compared with 500,000 tons in previous years, the Indonesian Coal Mining Association said. European coal demand is expected to stay strong next year.\\n\\n- Indonesia's new ban on coal exports, implemented to ensure adequate supply for its state-owned electricity companies, is expected to disrupt Supramax and Panamax markets in the Pacific region. The country exports around 400 million metric tonnes of thermal coal each year to countries including China, India, Japan, South Korea and Vietnam. The ban, which has seen bulkers unable to sail out of Indonesian ports, is likely to result in a tonnage surfeit in the Asia-Pacific, leading to lower shipping rates, particularly in East Coast South America (ECSA) and the Indian Ocean.\", metadata={'source': 'data_input/summary.txt'}),\n",
       "  0.3937056064605713),\n",
       " (Document(page_content=\"Summary for Indonesia\\n\\n- Indonesia plans to produce a record 695 million tonnes of coal in 2023 and export 518 million tonnes, according to Energy and Mineral Resources Minister Arifin Tasrif. The country's coal-fired energy supply makes up more than half of its total, though the government aims for a net-zero emissions goal by 2060. Domestic coal consumption in Indonesia is projected at 177 million tonnes this year, down from 193 million tonnes in 2022. \\n\\n- Global seaborne coal loadings increased by 5.9% year on year to 1204.9 million tonnes in 2022, with Indonesia's exports rising by 21.2% to 388.9 million tonnes, according to shipbroker Banchero Costa. The EU's coal imports jumped 33.9% year on year to 116.5 million tonnes, while India took 13.6% more coal from Indonesia, receiving a total of 203.8 million tonnes. Coal shipments to China fell by 3.2% to 234.7 million tonnes, and Australian exports declined by 5.0%.\", metadata={'source': 'data_input/summary.txt'}),\n",
       "  0.5083646178245544),\n",
       " (Document(page_content='- The seaborne coal market grew by 5.9% year-on-year to 1208 million tonnes in 2022, reversing the negative trend of previous years, according to shipbroker Banchero Costa. Although Australia\\'s coal exports declined by 5% in 2022 due to China\\'s adoption  of alternative markets, relations between the two countries have mended and coal shipments are expected to resume. Indonesia is now the largest exporter of coal globally, with a 32.2% share in 2022 compared to Australia\\'s 28.2%. In terms of export destinations, Japan was the top with 115 million tonnes in 2021, while exports to India rose by 13.6% but declined by 3.3% to China.\\n \\n- Coal producers are in talks with the government of New South Wales, following the government\\'s announcement that coal miners should reserve up to 10% of production for domestic supply to control rising energy costs in Australia. Coal producers are expected to be minimally impacted since spot supplies are limited, limiting requisition under the rule. The state is expanding an existing system that requires some coal-mining companies to reserve supply. Exports of coal are essential to the Australian economy, with 80% of the country\\'s coal exported, yet the move comes as coal prices rise nearly 50% YoY.\\n \\n- After a year of frozen relations between China and Australia, there is hope for a thaw in their relationship. Chinaâ€™s Foreign Minister, Wang Yi, met with a delegation from Australia to mark the 50th anniversary of bilateral relations and stated that the countries have no \"fundamental conflicts of interest\". Australia is hoping to resume trade in commodities such as iron ore and coking coal. While it is still uncertain whether a trade recovery will happen, analysts and experts from both countries have expressed optimism. Trade data shows that in 2021 China has already imported 694 million tons of iron ore from Australia, accounting for 62% of total imports.', metadata={'source': 'data_input/summary.txt'}),\n",
       "  0.6368979215621948)]"
      ]
     },
     "execution_count": 45,
     "metadata": {},
     "output_type": "execute_result"
    }
   ],
   "source": [
    "docs"
   ]
  }
 ],
 "metadata": {
  "kernelspec": {
   "display_name": "Python 3 (ipykernel)",
   "language": "python",
   "name": "python3"
  },
  "language_info": {
   "codemirror_mode": {
    "name": "ipython",
    "version": 3
   },
   "file_extension": ".py",
   "mimetype": "text/x-python",
   "name": "python",
   "nbconvert_exporter": "python",
   "pygments_lexer": "ipython3",
   "version": "3.10.11"
  },
  "toc": {
   "base_numbering": 1,
   "nav_menu": {},
   "number_sections": true,
   "sideBar": true,
   "skip_h1_title": false,
   "title_cell": "Table of Contents",
   "title_sidebar": "Contents",
   "toc_cell": false,
   "toc_position": {
    "height": "calc(100% - 180px)",
    "left": "10px",
    "top": "150px",
    "width": "238.932px"
   },
   "toc_section_display": true,
   "toc_window_display": true
  }
 },
 "nbformat": 4,
 "nbformat_minor": 2
}
